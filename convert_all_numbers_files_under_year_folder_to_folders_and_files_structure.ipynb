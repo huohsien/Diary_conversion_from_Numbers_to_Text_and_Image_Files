{
 "cells": [
  {
   "cell_type": "code",
   "execution_count": null,
   "id": "bd2bf36c",
   "metadata": {},
   "outputs": [],
   "source": [
    "from os import listdir, makedirs\n",
    "from os.path import isfile, join, exists, dirname\n",
    "from os import getcwd\n",
    "from tkinter import filedialog\n",
    "from tkinter import *\n",
    "from pathlib import Path\n",
    "\n",
    "import numbers_parser\n",
    "from numbers_parser import Document\n",
    "\n",
    "import logging"
   ]
  },
  {
   "cell_type": "code",
   "execution_count": null,
   "id": "223f3f96",
   "metadata": {},
   "outputs": [],
   "source": [
    "# Create a logger object\n",
    "logger = logging.getLogger()\n",
    "\n",
    "# Set up a file handler to write logs to a file\n",
    "file_handler = logging.FileHandler('app.log')\n",
    "\n",
    "# Set up a console handler to output logs to the console\n",
    "console_handler = logging.StreamHandler()\n",
    "\n",
    "# Define the log message format\n",
    "formatter = logging.Formatter(\n",
    "    \"[%(asctime)s][%(name)s][%(levelname)s]:  %(message)s (%(filename)s:%(lineno)d)\",\n",
    "    datefmt=\"%Y-%m-%d %H:%M:%S\",\n",
    ")\n",
    "file_handler.setFormatter(formatter)\n",
    "console_handler.setFormatter(formatter)\n",
    "\n",
    "# Add both handlers to the logger\n",
    "logger.addHandler(file_handler)\n",
    "logger.addHandler(console_handler)\n",
    "\n",
    "# Set the logging level to INFO\n",
    "logger.setLevel(logging.INFO)\n",
    "\n"
   ]
  },
  {
   "cell_type": "code",
   "execution_count": null,
   "id": "f5e5ebd1",
   "metadata": {},
   "outputs": [],
   "source": [
    "def gui_pick_a_folder(default_initialdir=None):\n",
    "    folder_path_history ='folder_chosen_history.txt'\n",
    "    root = Tk()\n",
    "    root.withdraw()\n",
    "    \n",
    "    print(\"default_initialdir: \", default_initialdir)\n",
    "    if default_initialdir is None:   \n",
    "        if exists(folder_path_history):\n",
    "            with open(folder_path_history, 'r') as fp:\n",
    "                last_opened_folder = fp.readline()\n",
    "\n",
    "        else:\n",
    "            last_opened_folder = Path.home()\n",
    "    else:\n",
    "        last_opened_folder = default_initialdir\n",
    "        \n",
    "    folder_name = filedialog.askdirectory(initialdir=last_opened_folder,title='Please select the Diary Folder for the Year to be exported:')\n",
    "    root.update()\n",
    "\n",
    "    if len(folder_name) > 0:\n",
    "        with open(folder_path_history,'w') as fp:\n",
    "            fp.write(folder_name)\n",
    "\n",
    "    root.destroy()\n",
    "    return folder_name"
   ]
  },
  {
   "cell_type": "code",
   "execution_count": null,
   "id": "7747b203",
   "metadata": {},
   "outputs": [],
   "source": [
    "src_diary_year_folder_path = gui_pick_a_folder()\n",
    "logger.info(\"diary source folder of a year picked. Paht: \" + src_diary_year_folder_path)"
   ]
  },
  {
   "cell_type": "code",
   "execution_count": null,
   "id": "f87804ae",
   "metadata": {},
   "outputs": [],
   "source": [
    "export_diary_root_folder = \"** export_diary_root_folder **\"\n",
    "\n",
    "export_diary_root_folder_path = join(src_diary_year_folder_path, export_diary_root_folder)"
   ]
  },
  {
   "cell_type": "code",
   "execution_count": null,
   "id": "9f69c162",
   "metadata": {},
   "outputs": [],
   "source": [
    "try:\n",
    "    makedirs(export_diary_root_folder_path, exist_ok=True)\n",
    "    logger.info(f\"Directory '{export_diary_root_folder_path}' created successfully.\")\n",
    "except OSError as e:\n",
    "    logger.error(f\"Error creating directory: {e}\")"
   ]
  },
  {
   "cell_type": "code",
   "execution_count": null,
   "id": "370dcb85",
   "metadata": {},
   "outputs": [],
   "source": [
    "month_name_list = ['April' , 'August' , 'December' , 'February' , 'January' , 'July' , 'June' , 'March' , 'May' , 'November' , 'October' , 'September']"
   ]
  },
  {
   "cell_type": "code",
   "execution_count": null,
   "id": "e511e43a",
   "metadata": {},
   "outputs": [],
   "source": [
    "month_folder_path_list = []\n",
    "for month_folder in listdir(src_diary_year_folder_path):\n",
    "    if not month_folder in month_name_list:\n",
    "        logger.info(\"skipped folder: {}\".format(month_folder))\n",
    "        continue\n",
    "    else:\n",
    "        month_folder_path = join(src_diary_year_folder_path, month_folder)\n",
    "        logger.info(\"month folder path: {}\".format(month_folder_path))\n",
    "\n",
    "        month_folder_path_list.append(month_folder_path)\n",
    "\n",
    "        for day_file in listdir(month_folder_path):\n",
    "            day_file_path = join(month_folder_path, day_file)\n",
    "            logger.info(day_file_path)"
   ]
  },
  {
   "cell_type": "code",
   "execution_count": null,
   "id": "81963a2c",
   "metadata": {},
   "outputs": [],
   "source": [
    "def parse_numbers_file(file_path):\n",
    "    continue"
   ]
  },
  {
   "cell_type": "code",
   "execution_count": null,
   "id": "0ca2230b",
   "metadata": {},
   "outputs": [],
   "source": [
    "file_path = '/Users/huohsien/Desktop/May 28.numbers'\n",
    "doc = Document(file_path)\n",
    "sheets = doc.sheets\n",
    "table = sheets[0].tables[0]\n",
    "rows = table.rows()\n",
    "\n",
    "num_rows = len(table.rows())\n",
    "for idx_r in range(0, num_rows):\n",
    "    num_cols = len(rows[idx_r])\n",
    "    for idx_c in range(num_cols):\n",
    "        cell = table.cell(idx_r, idx_c)\n",
    "\n",
    "        logger.info(\"idx_r={}, idx_c={} value={}\".format(idx_r, idx_c, cell))\n",
    "\n",
    "        if isinstance(cell, numbers_parser.cell.DateCell):\n",
    "            logger.info(\"Date\")\n",
    "            continue\n",
    "\n",
    "                    \n",
    "        if isinstance(cell.style.bg_image, numbers_parser.cell.BackgroundImage):\n",
    "            logger.info(\"IMAGE\")\n",
    "        \n",
    "        if cell.style.bg_color is not None:\n",
    "            logger.info(\"Background Color= {}\".format(cell.style.bg_color))\n",
    "        \n",
    "        if not cell.style.font_color == numbers_parser.cell.RGB(r=0,g=0,b=0):\n",
    "            logger.info(\"None black Font Color= {}\".format(cell.style.font_color))"
   ]
  },
  {
   "cell_type": "code",
   "execution_count": 26,
   "id": "2f1a73af",
   "metadata": {},
   "outputs": [
    {
     "data": {
      "text/plain": [
       "<numbers_parser.cell.DateCell at 0x7fb5f69a2940>"
      ]
     },
     "execution_count": 26,
     "metadata": {},
     "output_type": "execute_result"
    }
   ],
   "source": [
    "table.cell(3,0)"
   ]
  }
 ],
 "metadata": {
  "kernelspec": {
   "display_name": "numbers_parsing",
   "language": "python",
   "name": "python3"
  },
  "language_info": {
   "codemirror_mode": {
    "name": "ipython",
    "version": 3
   },
   "file_extension": ".py",
   "mimetype": "text/x-python",
   "name": "python",
   "nbconvert_exporter": "python",
   "pygments_lexer": "ipython3",
   "version": "3.8.17"
  }
 },
 "nbformat": 4,
 "nbformat_minor": 5
}
