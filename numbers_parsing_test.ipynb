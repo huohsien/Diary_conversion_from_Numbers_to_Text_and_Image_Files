{
 "cells": [
  {
   "cell_type": "code",
   "execution_count": null,
   "metadata": {},
   "outputs": [],
   "source": [
    "from os import listdir\n",
    "from os.path import isfile, join, exists\n",
    "from os import getcwd\n",
    "from tkinter import filedialog\n",
    "from tkinter import *\n",
    "from pathlib import Path\n",
    "\n",
    "import numbers_parser\n",
    "from numbers_parser import Document"
   ]
  },
  {
   "cell_type": "code",
   "execution_count": null,
   "metadata": {},
   "outputs": [],
   "source": [
    "def gui_pick_a_file(default_initialdir=None):\n",
    "    log_file_name ='folder_chosen_history.txt'\n",
    "    root = Tk()\n",
    "    root.withdraw()\n",
    "    \n",
    "    print(\"default_initialdir: \", default_initialdir)\n",
    "    if default_initialdir is None:   \n",
    "        if exists(log_file_name):\n",
    "            with open(log_file_name, 'r') as fp:\n",
    "                last_opened_folder = fp.readline()\n",
    "\n",
    "        else:\n",
    "            last_opened_folder = Path.home()\n",
    "    else:\n",
    "        last_opened_folder = default_initialdir\n",
    "        \n",
    "    file_name =  filedialog.askopenfilename(initialdir=last_opened_folder, title='Please select a file', filetypes=((\"Numbers File\", \"*.numbers\"),)) #filedialog.askdirectory(initialdir=last_opened_folder,title='Please select a directory')\n",
    "    root.update()\n",
    "\n",
    "    if len(file_name) > 0:\n",
    "        with open(log_file_name,'w') as fp:\n",
    "            fp.write(file_name)\n",
    "\n",
    "    root.destroy()\n",
    "    return file_name"
   ]
  },
  {
   "cell_type": "code",
   "execution_count": null,
   "metadata": {},
   "outputs": [],
   "source": [
    "# file_name = gui_pick_a_file()\n",
    "# print(\"file_name =\",file_name)\n",
    "file_name ='/Users/huohsien/Desktop/April 18 copy.numbers'"
   ]
  },
  {
   "cell_type": "code",
   "execution_count": null,
   "metadata": {},
   "outputs": [],
   "source": [
    "doc = Document(file_name)\n",
    "sheets = doc.sheets\n",
    "table = sheets[0].tables[0]\n",
    "rows = table.rows()\n",
    "\n",
    "num_rows = len(table.rows())\n",
    "for idx_r in range(0, num_rows):\n",
    "    num_cols = len(rows[idx_r])\n",
    "    for idx_c in range(num_cols):\n",
    "        cell = table.cell(idx_r, idx_c)\n",
    "        print(\"idx_r={}, idx_c={} value={}\".format(idx_r, idx_c, cell))\n",
    "\n",
    "        if isinstance(cell, numbers_parser.cell.DateCell):\n",
    "            print(\"Date\")\n",
    "            continue\n",
    "\n",
    "                     \n",
    "        if isinstance(cell.style.bg_image, numbers_parser.cell.BackgroundImage):\n",
    "            print(\"IMAGE\")\n",
    "        \n",
    "        if cell.style.bg_color is not None:\n",
    "            print(\"Background Color= {}\".format(cell.style.bg_color))\n",
    "        \n",
    "        if not cell.style.font_color == numbers_parser.cell.RGB(r=0,g=0,b=0):\n",
    "            print(\"None black Font Color= {}\".format(cell.style.font_color))\n",
    "\n",
    "type(cell.style.font_color)\n",
    "# type(table.cell(1,3))\n"
   ]
  },
  {
   "cell_type": "code",
   "execution_count": null,
   "metadata": {},
   "outputs": [],
   "source": [
    "# doc = Document(file_name)\n",
    "# rows = doc.sheets[0].tables[0].rows()\n",
    "# rows"
   ]
  },
  {
   "cell_type": "code",
   "execution_count": null,
   "metadata": {},
   "outputs": [],
   "source": [
    "rows[1][2].value"
   ]
  },
  {
   "cell_type": "code",
   "execution_count": null,
   "metadata": {},
   "outputs": [],
   "source": [
    "# for idxr, row in enumerate(table.iter_rows()):\n",
    "#     if row is not None:\n",
    "#         print(\"idx={}, {}\".format(idxr, row[idxr].value))"
   ]
  },
  {
   "cell_type": "code",
   "execution_count": null,
   "metadata": {},
   "outputs": [],
   "source": [
    "start_char = \"C\"\n",
    "stop_char = \"D\"\n",
    "letter_seq = [chr(idx+65) for idx in range(ord(start_char)-65,ord(stop_char)-65 + 1)]"
   ]
  },
  {
   "cell_type": "code",
   "execution_count": null,
   "metadata": {},
   "outputs": [],
   "source": [
    "test_path = \"/Users/huohsien/Desktop/***Numbers images dump test/\"\n",
    "for letter in letter_seq:\n",
    "    cell = table.cell(letter+\"87\")\n",
    "    # not isinstance(cell, numbers_parser.cell.EmptyCell) and\n",
    "    if not isinstance(cell, numbers_parser.cell.MergedCell) and cell.style.bg_image is not NONE:\n",
    "        print(\"cell= {}\".format(type(cell)))\n",
    "        filename = test_path+cell.style.bg_image.filename\n",
    "        with open (filename, \"wb\") as f:\n",
    "            f.write(cell.style.bg_image.data)\n",
    "            print(\"save file {}\".format(filename))\n"
   ]
  }
 ],
 "metadata": {
  "kernelspec": {
   "display_name": "numbers_parsing",
   "language": "python",
   "name": "python3"
  },
  "language_info": {
   "codemirror_mode": {
    "name": "ipython",
    "version": 3
   },
   "file_extension": ".py",
   "mimetype": "text/x-python",
   "name": "python",
   "nbconvert_exporter": "python",
   "pygments_lexer": "ipython3",
   "version": "3.8.17"
  },
  "orig_nbformat": 4
 },
 "nbformat": 4,
 "nbformat_minor": 2
}
